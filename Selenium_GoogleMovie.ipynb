{
 "cells": [
  {
   "cell_type": "markdown",
   "id": "f528f0fb",
   "metadata": {},
   "source": [
    "# Selenium 동적 페이지 다루기\n",
    "- 동적 페이지?:\n",
    "접속될 때 동작을 하는 것이 아니라 사용자가 동작을 했을 때 불려와지는 것.<br>\n",
    "ex) 스크롤을 내렸을 때 새로운 목록 갱신.\n",
    "\n",
    "## Google Moive\n",
    "인기차트 목록 중 할인하고 있는 작품의 정보 가져오기.\n",
    "#### 먼저, bs4로 가져와보기"
   ]
  },
  {
   "cell_type": "code",
   "execution_count": 8,
   "id": "16f1254b",
   "metadata": {},
   "outputs": [
    {
     "name": "stdout",
     "output_type": "stream",
     "text": [
      "10\n",
      "노바디\n",
      "어벤져스 : 엔드게임 (자막판)\n",
      "콰이어트 플레이스 (자막판)\n",
      "캐시트럭\n",
      "Cruella\n",
      "고질라 VS. 콩\n",
      "컨저링 3: 악마가 시켰다\n",
      "어벤져스 : 인피니티 워 (자막판)\n",
      "크루즈 패밀리: 뉴 에이지\n",
      "너의 이름은. (자막판)\n"
     ]
    }
   ],
   "source": [
    "import requests\n",
    "from bs4 import BeautifulSoup\n",
    "\n",
    "url = \"https://play.google.com/store/movies/top\"\n",
    "headers = {\n",
    "    \"User-Agent\":\"Mozilla/5.0 (Windows NT 10.0; Win64; x64) AppleWebKit/537.36 (KHTML, like Gecko) Chrome/91.0.4472.124 Safari/537.36\",\n",
    "    \"Accept-Language\":\"ko-KR,ko\"      } #한국어 페이지로 가져오기 위해\n",
    "\n",
    "res = requests.get(url, headers=headers)\n",
    "res.raise_for_status()\n",
    "soup = BeautifulSoup(res.text,\"lxml\")\n",
    "\n",
    "movies = soup.find_all(\"div\", attrs = {\"class\": \"ImZGtf mpg5gc\"}) \n",
    "print(len(movies))\n",
    "\n",
    "for movie in movies:\n",
    "    title = movie.find(\"div\", attrs={\"class\": \"WsMG1c nnK0zc\"}).get_text()\n",
    "    print(title)\n",
    "    \n"
   ]
  },
  {
   "cell_type": "markdown",
   "id": "f067e720",
   "metadata": {},
   "source": [
    "## Selenium을 이용해서 동적 페이지 다루기\n",
    "#### 스크롤 "
   ]
  },
  {
   "cell_type": "code",
   "execution_count": 9,
   "id": "27f0e228",
   "metadata": {},
   "outputs": [
    {
     "name": "stdout",
     "output_type": "stream",
     "text": [
      "스크롤 완료\n"
     ]
    }
   ],
   "source": [
    "from selenium import webdriver\n",
    "browser = webdriver.Chrome()\n",
    "browser.maximize_window()\n",
    "\n",
    "#페이지 이동\n",
    "url = \"https://play.google.com/store/movies/top\"\n",
    "browser.get(url)\n",
    "\n",
    "#지정한 위치로 스크롤 내리기\n",
    "#모니터(해상도) 높이의 1080으로 스크롤 내리기\n",
    "#browser.execute_script(\"window.scrollTo(0,1080)\") #스크롤을 세로방향으로 1080 내려라\n",
    "#browser.execute_script(\"window.scrollTo(0,2080)\") # 더 스크롤하기\n",
    "\n",
    "# 화면 가장 아래로 스크롤 내리기\n",
    "browser.execute_script(\"window.scrollTo(0, document.body.scrollHeight)\") #현 문서의 가장 아래쪽으로\n",
    "\n",
    "import time\n",
    "interval = 5 #2초에 한번씩 스크롤 내림.\n",
    "\n",
    "#현재 문서 높이를 가져와서 저장\n",
    "prev_height = browser.execute_script(\"return document.body.scrollHeight\")\n",
    "\n",
    "#반복 수행\n",
    "while True:\n",
    "    #스크롤 가장 아래로 내림\n",
    "    browser.execute_script(\"window.scrollTo(0, document.body.scrollHeight)\")\n",
    "    \n",
    "    #페이지 로딩 대기\n",
    "    time.sleep(interval)\n",
    "    \n",
    "    #현재 문서 높이를 가져와서 저장\n",
    "    curr_height = browser.execute_script(\"window.scrollTo(0, document.body.scrollHeight)\")\n",
    "    if curr_height == prev_height:\n",
    "        break\n",
    "    \n",
    "    prev_height = curr_height\n",
    "    \n",
    "print(\"스크롤 완료\")\n",
    "    "
   ]
  },
  {
   "cell_type": "markdown",
   "id": "e29b7bd2",
   "metadata": {},
   "source": [
    "### 스크래핑 시작"
   ]
  },
  {
   "cell_type": "code",
   "execution_count": 10,
   "id": "c354e50c",
   "metadata": {},
   "outputs": [
    {
     "name": "stdout",
     "output_type": "stream",
     "text": [
      "160\n",
      "제목: 컨저링 3: 악마가 시켰다\n",
      "할인 전 금액: ₩14,900\n",
      "할인 후 금액: <span class=\"VfPpfd ZdBevf i5DZme\"><span>₩9,900</span></span>\n",
      "링크: https://play.google.com/store/movies/details/%EC%BB%A8%EC%A0%80%EB%A7%81_3_%EC%95%85%EB%A7%88%EA%B0%80_%EC%8B%9C%EC%BC%B0%EB%8B%A4?id=jhaUnwBzVBM.P\n",
      "------------------------------------------------------------------------------------------------------------------------\n",
      "제목: 소울\n",
      "할인 전 금액: ₩4,400\n",
      "할인 후 금액: <span class=\"VfPpfd ZdBevf i5DZme\"><span>₩2,750</span></span>\n",
      "링크: https://play.google.com/store/movies/details/%EC%86%8C%EC%9A%B8?id=fRcet-N-fIs.P\n",
      "------------------------------------------------------------------------------------------------------------------------\n",
      "제목: 스파이더맨: 파 프롬 홈 (자막판)\n",
      "할인 전 금액: ₩1,800\n",
      "할인 후 금액: <span class=\"VfPpfd ZdBevf i5DZme\"><span>₩900</span></span>\n",
      "링크: https://play.google.com/store/movies/details/%EC%8A%A4%ED%8C%8C%EC%9D%B4%EB%8D%94%EB%A7%A8_%ED%8C%8C_%ED%94%84%EB%A1%AC_%ED%99%88_%EC%9E%90%EB%A7%89%ED%8C%90?id=zsehQ83TtjI\n",
      "------------------------------------------------------------------------------------------------------------------------\n",
      "제목: 마크맨\n",
      "할인 전 금액: ₩7,000\n",
      "할인 후 금액: <span class=\"VfPpfd ZdBevf i5DZme\"><span>₩5,000</span></span>\n",
      "링크: https://play.google.com/store/movies/details/%EB%A7%88%ED%81%AC%EB%A7%A8?id=4IfZtOlXxuA.P\n",
      "------------------------------------------------------------------------------------------------------------------------\n",
      "제목: 더 스파이\n",
      "할인 전 금액: ₩10,000\n",
      "할인 후 금액: <span class=\"VfPpfd ZdBevf i5DZme\"><span>₩4,500</span></span>\n",
      "링크: https://play.google.com/store/movies/details/%EB%8D%94_%EC%8A%A4%ED%8C%8C%EC%9D%B4?id=rD0h6sSPMNA.P\n",
      "------------------------------------------------------------------------------------------------------------------------\n",
      "제목: 삼국지: 무신 조자룡\n",
      "할인 전 금액: ₩10,000\n",
      "할인 후 금액: <span class=\"VfPpfd ZdBevf i5DZme\"><span>₩5,000</span></span>\n",
      "링크: https://play.google.com/store/movies/details/%EC%82%BC%EA%B5%AD%EC%A7%80_%EB%AC%B4%EC%8B%A0_%EC%A1%B0%EC%9E%90%EB%A3%A1?id=BliyeZrAeRc.P\n",
      "------------------------------------------------------------------------------------------------------------------------\n",
      "제목: 해리포터 시리즈 완결 패키지\n",
      "할인 전 금액: ₩36,000\n",
      "할인 후 금액: <span class=\"VfPpfd ZdBevf i5DZme\"><span>₩18,900</span></span>\n",
      "링크: https://play.google.com/store/movies/details/%ED%95%B4%EB%A6%AC%ED%8F%AC%ED%84%B0_%EC%8B%9C%EB%A6%AC%EC%A6%88_%EC%99%84%EA%B2%B0_%ED%8C%A8%ED%82%A4%EC%A7%80?id=DsVgRu5dDdY\n",
      "------------------------------------------------------------------------------------------------------------------------\n",
      "제목: 라이더스 오브 저스티스\n",
      "할인 전 금액: ₩10,000\n",
      "할인 후 금액: <span class=\"VfPpfd ZdBevf i5DZme\"><span>₩7,000</span></span>\n",
      "링크: https://play.google.com/store/movies/details/%EB%9D%BC%EC%9D%B4%EB%8D%94%EC%8A%A4_%EC%98%A4%EB%B8%8C_%EC%A0%80%EC%8A%A4%ED%8B%B0%EC%8A%A4?id=Kq5hvBpcYA8.P\n",
      "------------------------------------------------------------------------------------------------------------------------\n",
      "제목: 워 위드 그랜파\n",
      "할인 전 금액: ₩5,000\n",
      "할인 후 금액: <span class=\"VfPpfd ZdBevf i5DZme\"><span>₩2,500</span></span>\n",
      "링크: https://play.google.com/store/movies/details/%EC%9B%8C_%EC%9C%84%EB%93%9C_%EA%B7%B8%EB%9E%9C%ED%8C%8C?id=Yv2LXpPWoXo.P\n",
      "------------------------------------------------------------------------------------------------------------------------\n",
      "제목: 어니스트 씨프\n",
      "할인 전 금액: ₩4,500\n",
      "할인 후 금액: <span class=\"VfPpfd ZdBevf i5DZme\"><span>₩2,500</span></span>\n",
      "링크: https://play.google.com/store/movies/details/%EC%96%B4%EB%8B%88%EC%8A%A4%ED%8A%B8_%EC%94%A8%ED%94%84?id=Yu_uZoDZHHE.P\n",
      "------------------------------------------------------------------------------------------------------------------------\n"
     ]
    }
   ],
   "source": [
    "import requests\n",
    "from bs4 import BeautifulSoup\n",
    "\n",
    "\n",
    "soup = BeautifulSoup(browser.page_source,\"lxml\")\n",
    "\n",
    "#movies = soup.find_all(\"div\", attrs = {\"class\":[\"ImZGtf mpg5gc\", \"Vpfmgd\"]}) \n",
    "movies = soup.find_all(\"div\", attrs = {\"class\": \"Vpfmgd\"})\n",
    "print(len(movies))\n",
    "\n",
    "for movie in movies:\n",
    "    title = movie.find(\"div\", attrs={\"class\": \"WsMG1c nnK0zc\"}).get_text()\n",
    "    # 할인 전 가격\n",
    "    original_price = movie.find(\"span\", attrs={\"class\": \"SUZt4c djCuy\"})\n",
    "    if original_price:\n",
    "        original_price = original_price.get_text()\n",
    "        \n",
    "    else:\n",
    "        #print(title, \"<할인되지 않은 영화 제외>\")\n",
    "        continue\n",
    "    \n",
    "    #할인된 가격\n",
    "    price = movie.find(\"span\", attrs={\"class\":\"VfPpfd ZdBevf i5DZme\"})\n",
    "    \n",
    "    #링크 \n",
    "    link = movie.find(\"a\", attrs={\"class\":\"JC71ub\"})[\"href\"]\n",
    "    #올바른 링크: https://play.google.com +link\n",
    "    \n",
    "    print(f\"제목: {title}\")\n",
    "    print(f\"할인 전 금액: {original_price}\")\n",
    "    print(f\"할인 후 금액: {price}\")\n",
    "    print(\"링크:\", \"https://play.google.com\" + link)\n",
    "    print(\"-\"*120)\n",
    "    \n",
    "browser.quit()"
   ]
  },
  {
   "cell_type": "code",
   "execution_count": null,
   "id": "6f77eb00",
   "metadata": {},
   "outputs": [],
   "source": []
  }
 ],
 "metadata": {
  "kernelspec": {
   "display_name": "Python 3",
   "language": "python",
   "name": "python3"
  },
  "language_info": {
   "codemirror_mode": {
    "name": "ipython",
    "version": 3
   },
   "file_extension": ".py",
   "mimetype": "text/x-python",
   "name": "python",
   "nbconvert_exporter": "python",
   "pygments_lexer": "ipython3",
   "version": "3.8.8"
  }
 },
 "nbformat": 4,
 "nbformat_minor": 5
}
