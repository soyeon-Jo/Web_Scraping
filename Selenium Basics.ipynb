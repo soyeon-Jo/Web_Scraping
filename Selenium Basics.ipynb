{
 "cells": [
  {
   "cell_type": "markdown",
   "id": "62efddec",
   "metadata": {},
   "source": [
    "# Selenium 기초"
   ]
  },
  {
   "cell_type": "code",
   "execution_count": 25,
   "id": "fb482d7e",
   "metadata": {},
   "outputs": [],
   "source": [
    "from selenium import webdriver"
   ]
  },
  {
   "cell_type": "markdown",
   "id": "4aadebd3",
   "metadata": {},
   "source": [
    "\n",
    "- 이전 페이지\n",
    "```browser.back()```\n",
    "- 다시 돌아오기\n",
    "```browser.forward()```\n",
    "- 페이지 새로고침\n",
    "```browser.refresh()```\n"
   ]
  },
  {
   "cell_type": "code",
   "execution_count": 26,
   "id": "122e40c6",
   "metadata": {
    "scrolled": false
   },
   "outputs": [],
   "source": [
    "browser = webdriver.Chrome()\n",
    "\n",
    "#browser.get을 통해 네이버로 이동\n",
    "browser.get(\"http://naver.com\")\n",
    "elem = browser.find_element_by_class_name(\"link_login\")\n",
    "\n",
    "elem.click()\n",
    "#뒤로 가기\n",
    "browser.back()\n",
    "\n",
    "elem = browser.find_element_by_id(\"query\")\n",
    "\n",
    "#키값 입력하기\n",
    "from selenium.webdriver.common.keys import Keys \n",
    "elem.send_keys(\"나도 코딩\")\n",
    "\n",
    "elem.send_keys(Keys.ENTER)"
   ]
  },
  {
   "cell_type": "markdown",
   "id": "d5bfcfb9",
   "metadata": {},
   "source": [
    "그냥 send_keys로 입력만 해줄 것이라면 패키지 import 없이도 ```send_keys()```사용 가능.\n",
    "- ```from selenium.webdriver.common.keys import keys```는 keys.ENTER을 쓰기 위함이다.\n",
    "\n",
    "## Tag로 정보 가져오기"
   ]
  },
  {
   "cell_type": "code",
   "execution_count": 27,
   "id": "88db0eb5",
   "metadata": {},
   "outputs": [],
   "source": [
    "elem = browser.find_element_by_tag_name(\"a\")\n"
   ]
  },
  {
   "cell_type": "code",
   "execution_count": 28,
   "id": "868b9afa",
   "metadata": {},
   "outputs": [],
   "source": [
    "#여러개의 elements를 가져오고 싶을 때\n",
    "elem = browser.find_elements_by_tag_name(\"a\")"
   ]
  },
  {
   "cell_type": "code",
   "execution_count": 29,
   "id": "bfb00c22",
   "metadata": {},
   "outputs": [],
   "source": [
    "for e in elem:\n",
    "    e.get_attribute(\"href\")"
   ]
  },
  {
   "cell_type": "markdown",
   "id": "649a3469",
   "metadata": {},
   "source": [
    "#### 다른 페이지로 이동"
   ]
  },
  {
   "cell_type": "code",
   "execution_count": 30,
   "id": "63c8afd3",
   "metadata": {},
   "outputs": [
    {
     "data": {
      "text/plain": [
       "<selenium.webdriver.remote.webelement.WebElement (session=\"6baf13ec0979cb1ae7312e05d4f1418f\", element=\"73860fd2-4e4e-4ef3-a2c6-7ff4a6b037ba\")>"
      ]
     },
     "execution_count": 30,
     "metadata": {},
     "output_type": "execute_result"
    }
   ],
   "source": [
    "browser.get(\"http://daum.net\")\n",
    "\n",
    "elem = browser.find_element_by_name(\"q\")\n",
    "elem"
   ]
  },
  {
   "cell_type": "code",
   "execution_count": 31,
   "id": "16ff8b9c",
   "metadata": {},
   "outputs": [],
   "source": [
    "elem.send_keys(\"나도 코딩\")\n",
    "elem.send_keys(Keys.ENTER)"
   ]
  },
  {
   "cell_type": "markdown",
   "id": "2446c88d",
   "metadata": {},
   "source": [
    "#### XPath 이용하기\n",
    "- 해당 xpath 구하기\n",
    "소스코드 - 우측 클릭- Copy - XPath copy"
   ]
  },
  {
   "cell_type": "code",
   "execution_count": 32,
   "id": "3b431dda",
   "metadata": {},
   "outputs": [],
   "source": [
    "elem = browser.find_element_by_name(\"q\")\n",
    "elem.send_keys(\"나도 코딩\")\n",
    "elem = browser.find_element_by_xpath('//*[@id=\"daumSearch\"]/fieldset/div/div/button[2]')\n",
    "\n",
    "elem.click()\n",
    "#해당 브라우저 종료\n",
    "browser.close()\n",
    "#열려있는 모든 탭 닫기\n",
    "#browser.quit()"
   ]
  }
 ],
 "metadata": {
  "kernelspec": {
   "display_name": "Python 3",
   "language": "python",
   "name": "python3"
  },
  "language_info": {
   "codemirror_mode": {
    "name": "ipython",
    "version": 3
   },
   "file_extension": ".py",
   "mimetype": "text/x-python",
   "name": "python",
   "nbconvert_exporter": "python",
   "pygments_lexer": "ipython3",
   "version": "3.8.8"
  }
 },
 "nbformat": 4,
 "nbformat_minor": 5
}
