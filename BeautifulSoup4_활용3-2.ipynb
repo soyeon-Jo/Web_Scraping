{
 "cells": [
  {
   "cell_type": "markdown",
   "id": "69d96f58",
   "metadata": {},
   "source": [
    "# BeautifulSoup4 활용 3-2\n",
    "\n",
    "### Daum에서 5년동안 Top5 영화 순위의 이미지 가져오기"
   ]
  },
  {
   "cell_type": "code",
   "execution_count": 6,
   "id": "d71b574e",
   "metadata": {},
   "outputs": [],
   "source": [
    "import requests \n",
    "from bs4 import BeautifulSoup\n",
    "\n",
    "for year in range(20216, 2021):\n",
    "    \n",
    "    url = \"https://search.daum.net/search?w=tot&m=&q=2020%EB%85%84%20%EC%98%81%ED%99%94%20%EC%88%9C%EC%9C%84&nzq={}%EB%85%84%20%EC%98%81%ED%99%94%EC%88%9C%EC%9C%84&DA=NSJ\".format(year)\n",
    "\n",
    "    res = requests.get(url)\n",
    "    res.raise_for_status()\n",
    "\n",
    "    soup = BeautifulSoup(res.text, \"lxml\")\n",
    "\n",
    "    imgs = soup.find_all(\"img\", attrs={\"class\":\"thumb_img\"})\n",
    "\n",
    "    for idx,img in enumerate(imgs):\n",
    "        img_url = img[\"src\"]\n",
    "        if img_url.startswith(\"//\"):\n",
    "            img_url = \"https://\" + img_url\n",
    "       \n",
    "        print(img_url)\n",
    "\n",
    "        img_res = requests.get(img_url)\n",
    "        img_res.raise_for_status()\n",
    "\n",
    "        with open(\"movie_{}_{}.jpg\".format(year, idx+1), \"wb\") as f:\n",
    "            f.write(img_res.content)\n",
    "\n",
    "        if idx>=4:\n",
    "            break\n"
   ]
  },
  {
   "cell_type": "code",
   "execution_count": null,
   "id": "6cf04afa",
   "metadata": {},
   "outputs": [],
   "source": []
  }
 ],
 "metadata": {
  "kernelspec": {
   "display_name": "Python 3",
   "language": "python",
   "name": "python3"
  },
  "language_info": {
   "codemirror_mode": {
    "name": "ipython",
    "version": 3
   },
   "file_extension": ".py",
   "mimetype": "text/x-python",
   "name": "python",
   "nbconvert_exporter": "python",
   "pygments_lexer": "ipython3",
   "version": "3.8.8"
  }
 },
 "nbformat": 4,
 "nbformat_minor": 5
}
