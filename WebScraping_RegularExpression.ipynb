{
 "cells": [
  {
   "cell_type": "markdown",
   "metadata": {},
   "source": [
    "# 정규화\n"
   ]
  },
  {
   "cell_type": "code",
   "execution_count": 10,
   "metadata": {},
   "outputs": [],
   "source": [
    "import re"
   ]
  },
  {
   "cell_type": "code",
   "execution_count": 11,
   "metadata": {},
   "outputs": [],
   "source": [
    "p = re.compile(\"ca.e\") "
   ]
  },
  {
   "cell_type": "markdown",
   "metadata": {},
   "source": [
    "- ```.``` (ca.e) : **하나**의 문자를 의미 > care, cafe, case | caffe (X)\n",
    "- ```^``` (^de) : 문자열의 **시작** > desk, destination | fade (X)\n",
    "- ```$``` (se$) : 문자열의 **끝** > case, base | face (X)"
   ]
  },
  {
   "cell_type": "code",
   "execution_count": 15,
   "metadata": {},
   "outputs": [],
   "source": [
    "def print_match(m):\n",
    "    if m:\n",
    "        print(\"m.group():\", m.group()) # 일치하는 문자열 반환\n",
    "        print(\"m.string():\", m.string) # 입력받은 문자열\n",
    "        print(\"m.start():\", m.start()) # 일치하는 문자열의 시작 index\n",
    "        print(\"m.end():\", m.end()) # 일치하는 문자열의 끝 index\n",
    "        print(\"m.span():\", m.span()) # 일치하는 문자열의 시작/끝 index\n",
    "    else:\n",
    "        print(\"매칭되지 않음\")"
   ]
  },
  {
   "cell_type": "code",
   "execution_count": 18,
   "metadata": {},
   "outputs": [
    {
     "name": "stdout",
     "output_type": "stream",
     "text": [
      "m.group(): case\n",
      "m.string(): case\n",
      "m.start(): 0\n",
      "m.end(): 4\n",
      "m.span(): (0, 4)\n"
     ]
    }
   ],
   "source": [
    "m = p.match(\"case\") # 주어진 문자열의 처음부터 일치하는지 확인\n",
    "print_match(m)"
   ]
  },
  {
   "cell_type": "code",
   "execution_count": 17,
   "metadata": {},
   "outputs": [
    {
     "name": "stdout",
     "output_type": "stream",
     "text": [
      "m.group(): care\n",
      "m.string(): good care\n",
      "m.start(): 5\n",
      "m.end(): 9\n",
      "m.span(): (5, 9)\n"
     ]
    }
   ],
   "source": [
    "m = p.search(\"good care\") # search : 주어진 문자열 중에 일치하는게 있는지 확인\n",
    "print_match(m)"
   ]
  },
  {
   "cell_type": "code",
   "execution_count": 9,
   "metadata": {},
   "outputs": [
    {
     "name": "stdout",
     "output_type": "stream",
     "text": [
      "['care', 'cafe']\n",
      "['care', 'cafe']\n"
     ]
    }
   ],
   "source": [
    "lst = p.findall(\"good care cafe\")\n",
    "print(lst)\n",
    "\n",
    "lst = p.findall(\"good carecafe\") # 띄어쓰기 안해도 가능\n",
    "print(lst)"
   ]
  },
  {
   "cell_type": "markdown",
   "metadata": {},
   "source": [
    "## 요약 정리\n",
    "0. ```import re```\n",
    "1. ```p = re.compile(\"원하는 형태\")```\n",
    "2. ```m = p.match(\"비교할 문자열\")``` *주어진 문자열의 처음부터 일치하는지 확인*\n",
    "3. ```m = p.search(\"비교할 문자열\")``` *주어진 문자열 중에 일치하는게 있는지 확인*\n",
    "4. ```lst = p.findall(\"비교할 문자열\")``` *일치하는 모든 것을 **리스트**형태로 변환\n",
    "\n",
    "***원하는 형태: 정규식***\n",
    "- ```.``` (ca.e) : **하나**의 문자를 의미 > care, cafe, case | caffe (X)\n",
    "- ```^``` (^de) : 문자열의 **시작** > desk, destination | fade (X)\n",
    "- ```$``` (se$) : 문자열의 **끝** > case, base | face (X)\n"
   ]
  },
  {
   "cell_type": "code",
   "execution_count": null,
   "metadata": {},
   "outputs": [],
   "source": []
  }
 ],
 "metadata": {
  "kernelspec": {
   "display_name": "Python 3",
   "language": "python",
   "name": "python3"
  },
  "language_info": {
   "codemirror_mode": {
    "name": "ipython",
    "version": 3
   },
   "file_extension": ".py",
   "mimetype": "text/x-python",
   "name": "python",
   "nbconvert_exporter": "python",
   "pygments_lexer": "ipython3",
   "version": "3.8.5"
  }
 },
 "nbformat": 4,
 "nbformat_minor": 4
}
