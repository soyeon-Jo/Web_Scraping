{
 "cells": [
  {
   "cell_type": "markdown",
   "id": "a8eaf6a9",
   "metadata": {},
   "source": [
    "# selenium \n",
    "## 네이버 로그인 실습\n",
    "with 나도코딩"
   ]
  },
  {
   "cell_type": "code",
   "execution_count": null,
   "id": "a3def184",
   "metadata": {},
   "outputs": [],
   "source": [
    "from selenium import webdriver\n",
    "import time # 로그인 오류 방지를 위해\n",
    "\n",
    "browser = webdriver.Chrome()\n",
    "#1. 네이버로 이동\n",
    "browser.get(\"http://naver.com\")\n",
    "\n",
    "#2. 로그인 버튼 클릭\n",
    "elem = browser.find_element_by_class_name(\"link_login\")\n",
    "elem.click()\n",
    "\n",
    "#3. id, pw 입력(오류 대처를 위해 틀린 id,pw입력)\n",
    "browser.find_element_by_id(\"id\").send_keys(\"naver_id\") \n",
    "browser.find_element_by_id(\"pw\").send_keys(\"passsswrd\")\n",
    "\n",
    "#4. 로그인 버튼 클릭\n",
    "browser.find_element_by_id(\"log.login\").click()\n",
    "\n",
    "time.sleep(3)\n",
    "\n",
    "#5. id를 새로 입력\n",
    "browser.find_element_by_id(\"id\").clear() # 입력했던 문자 지우기\n",
    "browser.find_element_by_id(\"id\").send_keys(\"본인의 실제 id\") \n",
    "browser.find_element_by_id(\"pw\").send_keys(\"실제 비밀번호\")\n",
    "\n",
    "#6. HTML소스 가져오기\n",
    "print(browser.page_source)\n",
    "\n",
    "#7. 브라우저 종료\n",
    "browser.close()"
   ]
  }
 ],
 "metadata": {
  "kernelspec": {
   "display_name": "Python 3",
   "language": "python",
   "name": "python3"
  },
  "language_info": {
   "codemirror_mode": {
    "name": "ipython",
    "version": 3
   },
   "file_extension": ".py",
   "mimetype": "text/x-python",
   "name": "python",
   "nbconvert_exporter": "python",
   "pygments_lexer": "ipython3",
   "version": "3.8.8"
  }
 },
 "nbformat": 4,
 "nbformat_minor": 5
}
