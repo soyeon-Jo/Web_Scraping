{
 "cells": [
  {
   "cell_type": "markdown",
   "id": "18d83623",
   "metadata": {},
   "source": [
    "# BeautifulSoup4 활용 3\n",
    "## Daum영화 이미지 스크래핑\n",
    "검색창에 2020 영화순위를 검색해서 나오는 이미지의 링크를 모두 가져와보자"
   ]
  },
  {
   "cell_type": "code",
   "execution_count": 8,
   "id": "71ad0d74",
   "metadata": {},
   "outputs": [
    {
     "name": "stdout",
     "output_type": "stream",
     "text": [
      "https://search1.kakaocdn.net/thumb/R232x328.q85/?fname=http%3A%2F%2Ft1.daumcdn.net%2Fmovie%2F2b07e0c665de4482b9a0094f66bc11761578025532290\n",
      "https://search1.kakaocdn.net/thumb/R232x328.q85/?fname=https%3A%2F%2Ft1.daumcdn.net%2Fmovie%2Fc15a793c35cd41c32c27188faba84211a9185fa0\n",
      "https://search1.kakaocdn.net/thumb/R232x328.q85/?fname=https%3A%2F%2Ft1.daumcdn.net%2Fmovie%2F389d6e403d8ee48c419c7b16908919103e2c2670\n",
      "https://search1.kakaocdn.net/thumb/R232x328.q85/?fname=http%3A%2F%2Ft1.daumcdn.net%2Fmovie%2F23837d99576d43ba8e594f91497fea981579656331276\n",
      "https://search1.kakaocdn.net/thumb/R232x328.q85/?fname=https%3A%2F%2Ft1.daumcdn.net%2Fmovie%2F45ee167dd5a1fbbadc03af21dcba065324132c27\n",
      "https://search1.kakaocdn.net/thumb/R232x328.q85/?fname=http%3A%2F%2Ft1.daumcdn.net%2Fmovie%2Fc8555d7906ba4559a1290c616e416c4c1576742973513\n",
      "https://search1.kakaocdn.net/thumb/R232x328.q85/?fname=https%3A%2F%2Ft1.daumcdn.net%2Fmovie%2F0695528a5d4f1daa2523e174d4566bbb50a880c2\n",
      "https://search1.kakaocdn.net/thumb/R232x328.q85/?fname=https%3A%2F%2Ft1.daumcdn.net%2Fmovie%2Ff6d6494aa78ac7ffde282c0e67b431beede65b91\n",
      "https://search1.kakaocdn.net/thumb/R232x328.q85/?fname=https%3A%2F%2Ft1.daumcdn.net%2Fmovie%2F0c2466f6f09ff51b8dee1c1a039aadb0d4adf991\n",
      "https://search1.kakaocdn.net/thumb/R232x328.q85/?fname=http%3A%2F%2Ft1.daumcdn.net%2Fmovie%2F8ed24b92bc0b4d5996bd94038034918c1577332236872\n",
      "https://search1.kakaocdn.net/thumb/R232x328.q85/?fname=https%3A%2F%2Ft1.daumcdn.net%2Fmovie%2F9509f8790818777a727c53216cef5c35c60c844c\n",
      "https://search1.kakaocdn.net/thumb/R232x328.q85/?fname=http%3A%2F%2Ft1.daumcdn.net%2Fmovie%2F08bddecf7d26414585157598e5e453031579576516419\n",
      "https://search1.kakaocdn.net/thumb/R232x328.q85/?fname=https%3A%2F%2Ft1.daumcdn.net%2Fmovie%2F99a4d42206a028764e86c5bff8cf0021db985223\n",
      "https://search1.kakaocdn.net/thumb/R232x328.q85/?fname=http%3A%2F%2Ft1.daumcdn.net%2Fmovie%2Fa6bfbf52ff0e42798e95fe37cc67fddc1579154685345\n",
      "https://search1.kakaocdn.net/thumb/R232x328.q85/?fname=https%3A%2F%2Ft1.daumcdn.net%2Fmovie%2F9666fada063b46b7a005623eb0f1136ededa595c\n",
      "https://search1.kakaocdn.net/thumb/R232x328.q85/?fname=http%3A%2F%2Ft1.daumcdn.net%2Fmovie%2F0c338815e70f4fd7a4a3567f9d3abb0e1579055467364\n",
      "https://search1.kakaocdn.net/thumb/R232x328.q85/?fname=http%3A%2F%2Ft1.daumcdn.net%2Fmovie%2F3a21cf94af814f79b1294da67eec75a51577753974161\n",
      "https://search1.kakaocdn.net/thumb/R232x328.q85/?fname=https%3A%2F%2Ft1.daumcdn.net%2Fmovie%2Fb2cde8e92bfc811ebb822d5f95a4a710a48c0a4f\n",
      "https://search1.kakaocdn.net/thumb/R232x328.q85/?fname=https%3A%2F%2Ft1.daumcdn.net%2Fmovie%2Fmovie-private%2Ff9e87dc2c95d52f792bb2db809c62ac3f24dabf7\n",
      "https://search1.kakaocdn.net/thumb/R232x328.q85/?fname=http%3A%2F%2Ft1.daumcdn.net%2Fmovie%2F1d80cc8636c644aabd2597fc090183101579244282177\n",
      "https://search1.kakaocdn.net/thumb/R232x328.q85/?fname=http%3A%2F%2Ft1.daumcdn.net%2Fmovie%2F1154464d378e4f0fbb3b58d58e4e0ecd1578284152997\n",
      "https://search1.kakaocdn.net/thumb/R232x328.q85/?fname=http%3A%2F%2Ft1.daumcdn.net%2Fmovie%2F33f6b51372e94272a2b802d6e1b3cc321576635274939\n",
      "https://search1.kakaocdn.net/thumb/R232x328.q85/?fname=https%3A%2F%2Ft1.daumcdn.net%2Fmovie%2Fmovie-private%2F1eb1d9d691e8ff57dfe489610bf2ea5407f8a99a\n",
      "https://search1.kakaocdn.net/thumb/R232x328.q85/?fname=http%3A%2F%2Ft1.daumcdn.net%2Fmovie%2F62a1145c988a419bb88ccebbc1e4c38e1579678173231\n",
      "https://search1.kakaocdn.net/thumb/R232x328.q85/?fname=https%3A%2F%2Ft1.daumcdn.net%2Fmovie%2F6f7e0d87352effe5822812efb79509bee64a68d3\n",
      "https://search1.kakaocdn.net/thumb/R232x328.q85/?fname=http%3A%2F%2Ft1.daumcdn.net%2Fmovie%2Fed5beb5d553d4d219b0f14f80bc792c11578361141517\n",
      "https://search1.kakaocdn.net/thumb/R232x328.q85/?fname=https%3A%2F%2Ft1.daumcdn.net%2Fmovie%2F31a4a8cda8e91f261b0bf9b469dd71b64a5df2ce\n",
      "https://search1.kakaocdn.net/thumb/R232x328.q85/?fname=https%3A%2F%2Ft1.daumcdn.net%2Fmovie%2Fa915745a56d47962552aa862de689821674c3e88\n",
      "https://search1.kakaocdn.net/thumb/R232x328.q85/?fname=http%3A%2F%2Ft1.daumcdn.net%2Fmovie%2Ff8e87108bb754a35a65ae3da4a01855b1578618071029\n",
      "https://search1.kakaocdn.net/thumb/R232x328.q85/?fname=http%3A%2F%2Ft1.daumcdn.net%2Fmovie%2F9a228527f171422b8e6ff0b269b944271579482167550\n",
      "https://search1.kakaocdn.net/argon/130x130_85_c/89PawuJws1G\n",
      "https://search4.kakaocdn.net/argon/130x130_85_c/90no4aqmrID\n",
      "https://search2.kakaocdn.net/argon/130x130_85_c/1AlR759p5aV\n",
      "https://search1.kakaocdn.net/argon/130x130_85_c/1G2AX6toECN\n",
      "https://search1.kakaocdn.net/argon/130x130_85_c/4e8fkInXEy8\n",
      "https://search1.kakaocdn.net/argon/130x130_85_c/LpDr0WgVDLD\n",
      "https://search1.kakaocdn.net/argon/130x130_85_c/EPtb55wUBZQ\n",
      "https://search4.kakaocdn.net/argon/130x130_85_c/2Fp0ka4GR5B\n",
      "https://search3.kakaocdn.net/argon/229x128_80_pr/13bzr5PGAv4\n",
      "https://search4.kakaocdn.net/argon/229x128_80_pr/2cP51NQiL51\n",
      "https://search4.kakaocdn.net/argon/229x128_80_pr/6BmG5rwPOx\n",
      "https://search2.kakaocdn.net/argon/229x128_80_pr/9QrzK4S7LlR\n",
      "https://search3.kakaocdn.net/argon/229x128_80_pr/AZGt38nl1rK\n",
      "https://search1.daumcdn.net/thumb/C116x116.fjpg/?fname=http%3A%2F%2Ft1.daumcdn.net%2Fbrunch%2Fservice%2Fuser%2F5E08%2Fimage%2FsAmrZwuusQKUjnumImGfMl4ZR8Q.jpg\n",
      "https://search2.daumcdn.net/thumb/C116x116.fjpg/?fname=http%3A%2F%2Ft1.daumcdn.net%2Fbrunch%2Fservice%2Fuser%2F1U9m%2Fimage%2FCxOiVdzznvCy9VUuEMsQIWx_QfM.jpg\n",
      "https://search3.daumcdn.net/thumb/C116x116.fjpg/?fname=http%3A%2F%2Ft1.daumcdn.net%2Fbrunch%2Fservice%2Fuser%2F5E08%2Fimage%2FubN1hKp079VqmNMuxfm5fwIFm-c.jpg\n",
      "https://search1.daumcdn.net/thumb/R152x152/?fname=http%3A//shop2.daumcdn.net/shophow/p/S11075778853.jpg%3Fut%3D20201109125229\n",
      "https://search1.daumcdn.net/thumb/R152x152/?fname=http%3A//shop1.daumcdn.net/shophow/p/R11858453506.jpg%3Fut%3D20210108220012\n",
      "https://search2.daumcdn.net/thumb/R152x152/?fname=http%3A//shop1.daumcdn.net/shophow/p/K11075777181.jpg%3Fut%3D20201109125956\n",
      "https://search1.daumcdn.net/thumb/R152x152/?fname=http%3A//shop2.daumcdn.net/shophow/p/M11548415929.jpg%3Fut%3D20201215233007\n",
      "https://search2.daumcdn.net/thumb/P200x200/?fname=https%3A%2F%2Fsearch1.kakaocdn.net%2Fargon%2F200x200_85_c%2F6jE49S8Y0Bn0\n",
      "https://search1.daumcdn.net/thumb/P200x200/?fname=https%3A%2F%2Fsearch4.kakaocdn.net%2Fargon%2F200x200_85_c%2F2DJeyMj7sp30\n",
      "https://search3.daumcdn.net/thumb/P200x200/?fname=https%3A%2F%2Fsearch3.kakaocdn.net%2Fargon%2F200x200_85_c%2FLgmrfzAdOqs0\n",
      "https://search2.daumcdn.net/thumb/P200x200/?fname=https%3A%2F%2Fsearch1.kakaocdn.net%2Fargon%2F200x200_85_c%2F7144JcKJkU0\n"
     ]
    }
   ],
   "source": [
    "import requests\n",
    "from bs4 import BeautifulSoup\n",
    "\n",
    "url = \"https://search.daum.net/search?w=tot&m=&q=2020%EB%85%84%20%EC%98%81%ED%99%94%20%EC%88%9C%EC%9C%84&nzq=2021%EB%85%84%20%EC%98%81%ED%99%94%EC%88%9C%EC%9C%84&DA=NSJ\"\n",
    "\n",
    "res = requests.get(url)\n",
    "res.raise_for_status()\n",
    "\n",
    "soup = BeautifulSoup(res.text, \"lxml\")\n",
    "\n",
    "#이미지 가져오기\n",
    "images = soup.find_all(\"img\", attrs={\"class\": \"thumb_img\"})\n",
    "\n",
    "#이미지의 링크 가져오기\n",
    "for i in images:\n",
    "    #print(i[\"src\"])\n",
    "    img_url = i[\"src\"]\n",
    "    if img_url.startswith(\"//\"):\n",
    "        img_url  = \"https:\" + img_url\n",
    "    \n",
    "    print(img_url)"
   ]
  },
  {
   "cell_type": "code",
   "execution_count": null,
   "id": "e85408cf",
   "metadata": {},
   "outputs": [],
   "source": []
  }
 ],
 "metadata": {
  "kernelspec": {
   "display_name": "Python 3",
   "language": "python",
   "name": "python3"
  },
  "language_info": {
   "codemirror_mode": {
    "name": "ipython",
    "version": 3
   },
   "file_extension": ".py",
   "mimetype": "text/x-python",
   "name": "python",
   "nbconvert_exporter": "python",
   "pygments_lexer": "ipython3",
   "version": "3.8.8"
  }
 },
 "nbformat": 4,
 "nbformat_minor": 5
}
