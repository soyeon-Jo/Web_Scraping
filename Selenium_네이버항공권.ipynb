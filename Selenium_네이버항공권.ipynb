{
 "cells": [
  {
   "cell_type": "markdown",
   "id": "b4202569",
   "metadata": {},
   "source": [
    "# Selenium \n",
    "## 네이버 항공권\n",
    "with 나도코딩"
   ]
  },
  {
   "cell_type": "code",
   "execution_count": 11,
   "id": "5fe763c6",
   "metadata": {},
   "outputs": [
    {
     "name": "stdout",
     "output_type": "stream",
     "text": [
      "에어서울\n",
      "출발지\n",
      "GMP\n",
      "06:00\n",
      "도착지\n",
      "CJU\n",
      "07:00\n",
      "총 소요시간\n",
      "01시간 00분\n",
      "특가석\n",
      "편도 19,000원\n",
      "편도 18,820원 (KB국민카드 결제시 1% 청구할인)\n",
      "성인이벤트혜택\n"
     ]
    }
   ],
   "source": [
    "from selenium import webdriver\n",
    "#아래 import는 검색 시간이 길어질 경우 생길 오류를 방지해줌\n",
    "#지난 챕터의 import time은 일정하지 않은 검색시간에 부하를 줄 수 있기 때문에 아래 패키지 사용\n",
    "from selenium.webdriver.common.by import By\n",
    "from selenium.webdriver.support.ui import WebDriverWait\n",
    "from selenium.webdriver.support import expected_conditions as EC\n",
    "\n",
    "browser = webdriver.Chrome()\n",
    "browser.maximize_window() # 창 최대화\n",
    "\n",
    "url = \"https://flight.naver.com/flights/\"\n",
    "browser.get(url) #url로 이동\n",
    "\n",
    "#1. 가는날 선택 & 클릭\n",
    "#날짜 선택창에는 2개의 달이 붙어 있다(ex.7월 29일과 8월29일은 모두 'a'태그의 29이다. 때문에 7월 29일에 출발을 선택하고 싶다면 'a'태그의 첫번째 29일을 가져오면 된다.\n",
    "browser.find_element_by_link_text(\"가는날 선택\").click()\n",
    "\n",
    "# 이번달 27일, 28일 선택\n",
    "#browser.find_elements_by_link_text(\"27\")[0].click() #[0] -> 이번달\n",
    "#browser.find_elements_by_link_text(\"28\")[0].click() #[0] -> 이번달\n",
    "\n",
    "#다음달 27,28일 선택\n",
    "#browser.find_elements_by_link_text(\"27\")[1].click() #[1] -> 다음달\n",
    "#browser.find_elements_by_link_text(\"28\")[1].click() #[1] -> 다음달\n",
    "\n",
    "#이번달 27일부터 다음달 28일 선틱\n",
    "browser.find_elements_by_link_text(\"27\")[0].click() #[0] -> 이번달\n",
    "browser.find_elements_by_link_text(\"28\")[1].click() #[1] -> 다음달\n",
    "\n",
    "#제주도 선택\n",
    "browser.find_element_by_xpath('//*[@id=\"recommendationList\"]/ul/li[1]').click()\n",
    "\n",
    "#항공권 검색 클릭\n",
    "browser.find_element_by_link_text(\"항공권 검색\").click()\n",
    "\n",
    "#webDriverWait: 브라우저를 최대 10초 기다린다.\n",
    "#until\n",
    "#EC.presence_of_element_located: 조건을 충족할때까지\n",
    "#By.XPATH:  (위에서 말하는 조건에 해당)\n",
    "try:\n",
    "    elem = WebDriverWait(browser, 10).until(EC.presence_of_element_located((By.XPATH, \"//*[@id='content']/div[2]/div/div[4]/ul/li[1]\")))\n",
    "    #성공했을 때 동작 수행\n",
    "    print(elem.text) #첫번째 결과 출력\n",
    "finally:\n",
    "    browser.quit()\n",
    "    \n",
    "#첫번째 결과 출력\n",
    "#elem = browser.find_element_by_xpath('//*[@id=\"content\"]/div[2]/div/div[4]/ul/li[1]')"
   ]
  },
  {
   "cell_type": "code",
   "execution_count": null,
   "id": "a69eab3d",
   "metadata": {},
   "outputs": [],
   "source": []
  }
 ],
 "metadata": {
  "kernelspec": {
   "display_name": "Python 3",
   "language": "python",
   "name": "python3"
  },
  "language_info": {
   "codemirror_mode": {
    "name": "ipython",
    "version": 3
   },
   "file_extension": ".py",
   "mimetype": "text/x-python",
   "name": "python",
   "nbconvert_exporter": "python",
   "pygments_lexer": "ipython3",
   "version": "3.8.8"
  }
 },
 "nbformat": 4,
 "nbformat_minor": 5
}
